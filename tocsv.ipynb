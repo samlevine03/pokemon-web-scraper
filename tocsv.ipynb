{
 "cells": [
  {
   "cell_type": "code",
   "execution_count": 1,
   "metadata": {},
   "outputs": [],
   "source": [
    "import csv\n",
    "import json"
   ]
  },
  {
   "cell_type": "code",
   "execution_count": 4,
   "metadata": {},
   "outputs": [
    {
     "data": {
      "text/plain": [
       "['name',\n",
       " 'japanese_name_romanji',\n",
       " 'japanese_name_kana',\n",
       " 'number',\n",
       " 'prop. male',\n",
       " 'prop. female',\n",
       " 'classification',\n",
       " 'type1',\n",
       " 'type2',\n",
       " 'height_in',\n",
       " 'height_m',\n",
       " 'weight_lbs',\n",
       " 'weight_kg',\n",
       " 'hit_points',\n",
       " 'attack',\n",
       " 'defense',\n",
       " 'sp_att',\n",
       " 'sp_def',\n",
       " 'speed',\n",
       " 'effort_values',\n",
       " 'wk_normal',\n",
       " 'wk_fire',\n",
       " 'wk_water',\n",
       " 'wk_electric',\n",
       " 'wk_grass',\n",
       " 'wk_ice',\n",
       " 'wk_fighting',\n",
       " 'wk_poison',\n",
       " 'wk_ground',\n",
       " 'wk_flying',\n",
       " 'wk_psychic',\n",
       " 'wk_bug',\n",
       " 'wk_rock',\n",
       " 'wk_ghost',\n",
       " 'wk_dragon',\n",
       " 'wk_dark',\n",
       " 'wk_steel',\n",
       " 'wk_fairy']"
      ]
     },
     "execution_count": 4,
     "metadata": {},
     "output_type": "execute_result"
    }
   ],
   "source": [
    "with open('pokemon9.json', 'r', encoding='utf-8') as file:\n",
    "    data = json.load(file)\n",
    "\n",
    "columns = list(data[0].keys())\n",
    "columns"
   ]
  },
  {
   "cell_type": "code",
   "execution_count": 3,
   "metadata": {},
   "outputs": [
    {
     "name": "stdout",
     "output_type": "stream",
     "text": [
      "CSV file 'pokemon_data.csv' created successfully.\n"
     ]
    }
   ],
   "source": [
    "with open('pokemon9.csv', 'w', newline='', encoding='utf-8') as file:\n",
    "    writer = csv.DictWriter(file, fieldnames=columns)\n",
    "    writer.writeheader()\n",
    "    for pokemon in data:\n",
    "        writer.writerow(pokemon)\n",
    "\n",
    "print(\"CSV file 'pokemon_data.csv' created successfully.\")"
   ]
  },
  {
   "cell_type": "code",
   "execution_count": 7,
   "metadata": {},
   "outputs": [
    {
     "name": "stdout",
     "output_type": "stream",
     "text": [
      "CSV file 'pokemon_data.csv' created successfully.\n"
     ]
    }
   ],
   "source": [
    "with open('pokemon8.json', 'r', encoding='utf-8') as file:\n",
    "    data = json.load(file)\n",
    "\n",
    "columns = list(data[0].keys())\n",
    "\n",
    "with open('pokemon8.csv', 'w', newline='', encoding='utf-8') as file:\n",
    "    writer = csv.DictWriter(file, fieldnames=columns)\n",
    "    writer.writeheader()\n",
    "    for pokemon in data:\n",
    "        writer.writerow(pokemon)\n",
    "\n",
    "print(\"CSV file 'pokemon_data.csv' created successfully.\")"
   ]
  },
  {
   "cell_type": "code",
   "execution_count": 15,
   "metadata": {},
   "outputs": [
    {
     "name": "stdout",
     "output_type": "stream",
     "text": [
      "292\n",
      "['#010', '#011', '#012', '#013', '#014', '#015', '#016', '#017', '#018', '#019', '#020', '#021', '#022', '#029', '#030', '#031', '#032', '#033', '#034', '#041', '#042', '#046', '#047', '#063', '#064', '#065', '#066', '#067', '#068', '#077', '#078', '#083', '#095', '#098', '#099', '#104', '#105', '#108', '#114', '#115', '#118', '#119', '#120', '#121', '#122', '#124', '#127', '#138', '#139', '#140', '#141', '#142', '#165', '#166', '#169', '#175', '#176', '#177', '#178', '#201', '#202', '#208', '#213', '#222', '#223', '#224', '#226', '#238', '#241', '#251', '#263', '#264', '#265', '#266', '#267', '#268', '#269', '#276', '#277', '#290', '#291', '#292', '#293', '#294', '#295', '#300', '#301', '#303', '#304', '#305', '#306', '#309', '#310', '#315', '#318', '#319', '#320', '#321', '#327', '#337', '#338', '#343', '#344', '#345', '#346', '#347', '#348', '#351', '#352', '#359', '#360', '#363', '#364', '#365', '#366', '#367', '#368', '#369', '#399', '#400', '#406', '#407', '#412', '#413', '#414', '#420', '#421', '#427', '#428', '#431', '#432', '#439', '#441', '#451', '#452', '#455', '#458', '#463', '#465', '#468', '#494', '#504', '#505', '#506', '#507', '#508', '#509', '#510', '#511', '#512', '#513', '#514', '#515', '#516', '#517', '#518', '#519', '#520', '#521', '#524', '#525', '#526', '#527', '#528', '#531', '#535', '#536', '#537', '#538', '#539', '#543', '#544', '#545', '#554', '#555', '#556', '#557', '#558', '#561', '#562', '#563', '#564', '#565', '#566', '#567', '#568', '#569', '#582', '#583', '#584', '#587', '#588', '#589', '#592', '#593', '#597', '#598', '#599', '#600', '#601', '#605', '#606', '#616', '#617', '#618', '#621', '#626', '#631', '#632', '#649', '#659', '#660', '#674', '#675', '#676', '#679', '#680', '#681', '#682', '#683', '#684', '#685', '#688', '#689', '#694', '#695', '#696', '#697', '#698', '#699', '#710', '#711', '#716', '#717', '#718', '#746', '#755', '#756', '#759', '#760', '#767', '#768', '#771', '#772', '#773', '#776', '#777', '#780', '#781', '#785', '#786', '#787', '#788', '#793', '#794', '#795', '#796', '#797', '#798', '#799', '#802', '#803', '#804', '#805', '#806', '#807', '#808', '#809', '#824', '#825', '#826', '#827', '#828', '#829', '#830', '#831', '#832', '#835', '#836', '#850', '#851', '#852', '#853', '#862', '#864', '#865', '#866', '#867', '#880', '#881', '#882', '#883']\n",
      "9\n",
      "['#504', '#505', '#511', '#512', '#513', '#514', '#515', '#516', '#676']\n"
     ]
    }
   ],
   "source": [
    "# now read in the csv and for every pokemon that doesn't have a name currently, check if it has a name in the other file\n",
    "missing = []\n",
    "\n",
    "with open('pokemon9.csv', 'r', encoding='utf-8') as file9:\n",
    "    reader = csv.DictReader(file9)\n",
    "    for row in reader:\n",
    "        if row['name'] == '':\n",
    "            number = row['number']\n",
    "            missing.append(number)\n",
    "\n",
    "print(len(missing))\n",
    "print(missing)\n",
    "\n",
    "found = []\n",
    "with open('pokemon8.csv', 'r', encoding='utf-8') as file8:\n",
    "    reader = csv.DictReader(file8)\n",
    "    for row in reader:\n",
    "        if row['number'] in missing:\n",
    "            if row['name'] != '':\n",
    "                found.append(row)\n",
    "            \n",
    "print(len(missing) - len(found))\n",
    "\n",
    "# which ones are we still missing?\n",
    "still_missing = []\n",
    "for number in missing:\n",
    "    if number not in [pokemon['number'] for pokemon in found]:\n",
    "        still_missing.append(number)\n",
    "\n",
    "print(still_missing)"
   ]
  },
  {
   "cell_type": "code",
   "execution_count": 16,
   "metadata": {},
   "outputs": [
    {
     "name": "stdout",
     "output_type": "stream",
     "text": [
      "CSV file 'pokedex.csv' created successfully.\n"
     ]
    }
   ],
   "source": [
    "with open('pokedex.csv', 'w', newline='', encoding='utf-8') as file:\n",
    "    writer = csv.DictWriter(file, fieldnames=columns)\n",
    "    writer.writeheader()\n",
    "    with open('pokemon9.csv', 'r', encoding='utf-8') as file9:\n",
    "        reader = csv.DictReader(file9)\n",
    "        for row in reader:\n",
    "            if row['number'] in found:\n",
    "                with open('pokemon8.csv', 'r', encoding='utf-8') as file8:\n",
    "                    reader = csv.DictReader(file8)\n",
    "                    for row in reader:\n",
    "                        if row['number'] == row['number']:\n",
    "                            writer.writerow(row)\n",
    "            else:\n",
    "                writer.writerow(row)\n",
    "\n",
    "print(\"CSV file 'pokedex.csv' created successfully.\")"
   ]
  },
  {
   "cell_type": "markdown",
   "metadata": {},
   "source": [
    "# Conclusion\n",
    "\n",
    "I ended up deciding to just keep pokemon8.csv since I realized that combining the two results in some regional conflicts and I'm not enough of a Pokemon expert to decide how to resolve them"
   ]
  },
  {
   "cell_type": "code",
   "execution_count": null,
   "metadata": {},
   "outputs": [],
   "source": []
  }
 ],
 "metadata": {
  "kernelspec": {
   "display_name": "Python 3",
   "language": "python",
   "name": "python3"
  },
  "language_info": {
   "codemirror_mode": {
    "name": "ipython",
    "version": 3
   },
   "file_extension": ".py",
   "mimetype": "text/x-python",
   "name": "python",
   "nbconvert_exporter": "python",
   "pygments_lexer": "ipython3",
   "version": "3.11.6"
  }
 },
 "nbformat": 4,
 "nbformat_minor": 2
}
